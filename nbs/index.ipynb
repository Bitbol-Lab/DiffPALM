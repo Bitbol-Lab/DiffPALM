{
 "cells": [
  {
   "cell_type": "code",
   "execution_count": null,
   "metadata": {},
   "outputs": [],
   "source": [
    "#| hide\n",
    "from diffpalm.core import *"
   ]
  },
  {
   "cell_type": "markdown",
   "metadata": {},
   "source": [
    "# DiffPALM\n",
    "\n",
    "> Differentiable Pairing using Alignment-based Language Models"
   ]
  },
  {
   "cell_type": "markdown",
   "metadata": {},
   "source": [
    "![](https://raw.githubusercontent.com/Bitbol-Lab/DiffPALM/main/images/logo.svg \"DiffPALM logo\")\n",
    "\n",
    "Paralog matching method described in [\"Pairing interacting protein sequences using masked language modeling\" (Lupo, Sgarbossa, and Bitbol, 2023)](https://www.biorxiv.org/content/10.1101/2023.08.14.553209). The MSA Transformer model used here was introduced in [(Rao el al, 2021)](https://proceedings.mlr.press/v139/rao21a.html)."
   ]
  },
  {
   "cell_type": "markdown",
   "metadata": {},
   "source": [
    "## Install\n",
    "\n",
    "Clone this repository on your local machine by running\n",
    "and move inside the root folder. We recommend creating and activating a dedicated conda or virtualenv Python virtual environment. "
   ]
  },
  {
   "cell_type": "markdown",
   "metadata": {},
   "source": [
    "```sh\n",
    "git clone git@github.com:Bitbol-Lab/DiffPALM.git\n",
    "```"
   ]
  },
  {
   "cell_type": "markdown",
   "metadata": {},
   "source": [
    "and move inside the root folder. We recommend creating and activating a dedicated conda or virtualenv Python virtual environment. Then, make an editable install of the package:"
   ]
  },
  {
   "cell_type": "markdown",
   "metadata": {},
   "source": [
    "``` sh\n",
    "python -m pip install -e .\n",
    "```"
   ]
  },
  {
   "cell_type": "markdown",
   "metadata": {},
   "source": [
    "## How to use"
   ]
  },
  {
   "cell_type": "markdown",
   "metadata": {},
   "source": [
    "See the [`_example_prokaryotic.ipynb`](https://github.com/Bitbol-Lab/DiffPALM/blob/main/nbs/_example_prokaryotic.ipynb) notebook for an example of paired MSA optimization in the case of well-known prokaryotic datasets, for which ground truth matchings are given by genome proximity."
   ]
  },
  {
   "cell_type": "markdown",
   "metadata": {},
   "source": [
    "## Citation\n",
    "\n",
    "Our work can be cited using the following BibTeX entry:"
   ]
  },
  {
   "cell_type": "markdown",
   "metadata": {},
   "source": [
    "``` bibtex\n",
    "@article{lupo2023pairing,\n",
    "  title={Pairing interacting protein sequences using masked language modeling},\n",
    "  author={Lupo, Umberto and Sgarbossa, Damiano and Bitbol, Anne-Florence},\n",
    "  year={2023},\n",
    "  journal={bioRxiv},\n",
    "  doi={10.1101/2023.08.14.553209 }\n",
    "}\n",
    "```"
   ]
  },
  {
   "cell_type": "markdown",
   "metadata": {},
   "source": [
    "## nbdev\n",
    "\n",
    "This project has been developed using [nbdev](https://nbdev.fast.ai/)."
   ]
  }
 ],
 "metadata": {
  "kernelspec": {
   "display_name": "python3",
   "language": "python",
   "name": "python3"
  }
 },
 "nbformat": 4,
 "nbformat_minor": 4
}
